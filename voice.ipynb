{
 "cells": [
  {
   "cell_type": "code",
   "execution_count": 1,
   "metadata": {},
   "outputs": [
    {
     "name": "stdout",
     "output_type": "stream",
     "text": [
      "Processing c:\\users\\18mia\\appdata\\local\\pip\\cache\\wheels\\d6\\c3\\2b\\baf31dba99567d020d1111e4d06788d676cd5fc02e2f3b94c1\\ibm_watson-4.5.0-py3-none-any.whl\n",
      "Requirement already satisfied: python-dateutil>=2.5.3 in c:\\users\\18mia\\anaconda3\\lib\\site-packages (from ibm_watson) (2.8.1)\n",
      "Collecting websocket-client==0.48.0\n",
      "  Using cached websocket_client-0.48.0-py2.py3-none-any.whl (198 kB)\n",
      "Requirement already satisfied: requests<3.0,>=2.0 in c:\\users\\18mia\\anaconda3\\lib\\site-packages (from ibm_watson) (2.22.0)\n",
      "Processing c:\\users\\18mia\\appdata\\local\\pip\\cache\\wheels\\51\\37\\f5\\0532ca77cb49d7405e309bb16e3bf3fd4488baabf0f326c63d\\ibm_cloud_sdk_core-1.5.1-py3-none-any.whl\n",
      "Requirement already satisfied: six>=1.5 in c:\\users\\18mia\\anaconda3\\lib\\site-packages (from python-dateutil>=2.5.3->ibm_watson) (1.14.0)\n",
      "Requirement already satisfied: urllib3!=1.25.0,!=1.25.1,<1.26,>=1.21.1 in c:\\users\\18mia\\anaconda3\\lib\\site-packages (from requests<3.0,>=2.0->ibm_watson) (1.25.8)\n",
      "Requirement already satisfied: idna<2.9,>=2.5 in c:\\users\\18mia\\anaconda3\\lib\\site-packages (from requests<3.0,>=2.0->ibm_watson) (2.8)\n",
      "Requirement already satisfied: certifi>=2017.4.17 in c:\\users\\18mia\\anaconda3\\lib\\site-packages (from requests<3.0,>=2.0->ibm_watson) (2019.11.28)\n",
      "Requirement already satisfied: chardet<3.1.0,>=3.0.2 in c:\\users\\18mia\\anaconda3\\lib\\site-packages (from requests<3.0,>=2.0->ibm_watson) (3.0.4)\n",
      "Collecting PyJWT>=1.7.1\n",
      "  Using cached PyJWT-1.7.1-py2.py3-none-any.whl (18 kB)\n",
      "Installing collected packages: websocket-client, PyJWT, ibm-cloud-sdk-core, ibm-watson\n",
      "Successfully installed PyJWT-1.7.1 ibm-cloud-sdk-core-1.5.1 ibm-watson-4.5.0 websocket-client-0.48.0\n",
      "Note: you may need to restart the kernel to use updated packages.\n"
     ]
    }
   ],
   "source": [
    "pip install ibm_watson\n"
   ]
  },
  {
   "cell_type": "code",
   "execution_count": 2,
   "metadata": {},
   "outputs": [
    {
     "name": "stdout",
     "output_type": "stream",
     "text": [
      "Requirement already satisfied: ibm_cloud_sdk_core in c:\\users\\18mia\\anaconda3\\lib\\site-packages (1.5.1)\n",
      "Requirement already satisfied: PyJWT>=1.7.1 in c:\\users\\18mia\\anaconda3\\lib\\site-packages (from ibm_cloud_sdk_core) (1.7.1)\n",
      "Requirement already satisfied: requests<3.0,>=2.0 in c:\\users\\18mia\\anaconda3\\lib\\site-packages (from ibm_cloud_sdk_core) (2.22.0)\n",
      "Requirement already satisfied: python-dateutil>=2.5.3 in c:\\users\\18mia\\anaconda3\\lib\\site-packages (from ibm_cloud_sdk_core) (2.8.1)\n",
      "Requirement already satisfied: certifi>=2017.4.17 in c:\\users\\18mia\\anaconda3\\lib\\site-packages (from requests<3.0,>=2.0->ibm_cloud_sdk_core) (2019.11.28)\n",
      "Requirement already satisfied: urllib3!=1.25.0,!=1.25.1,<1.26,>=1.21.1 in c:\\users\\18mia\\anaconda3\\lib\\site-packages (from requests<3.0,>=2.0->ibm_cloud_sdk_core) (1.25.8)\n",
      "Requirement already satisfied: chardet<3.1.0,>=3.0.2 in c:\\users\\18mia\\anaconda3\\lib\\site-packages (from requests<3.0,>=2.0->ibm_cloud_sdk_core) (3.0.4)\n",
      "Requirement already satisfied: idna<2.9,>=2.5 in c:\\users\\18mia\\anaconda3\\lib\\site-packages (from requests<3.0,>=2.0->ibm_cloud_sdk_core) (2.8)\n",
      "Requirement already satisfied: six>=1.5 in c:\\users\\18mia\\anaconda3\\lib\\site-packages (from python-dateutil>=2.5.3->ibm_cloud_sdk_core) (1.14.0)\n",
      "Note: you may need to restart the kernel to use updated packages.\n"
     ]
    }
   ],
   "source": [
    "pip install ibm_cloud_sdk_core"
   ]
  },
  {
   "cell_type": "code",
   "execution_count": 5,
   "metadata": {},
   "outputs": [],
   "source": [
    "from ibm_watson import TextToSpeechV1\n",
    "from ibm_cloud_sdk_core.authenticators import IAMAuthenticator\n"
   ]
  },
  {
   "cell_type": "code",
   "execution_count": 7,
   "metadata": {},
   "outputs": [],
   "source": [
    "authenticator = IAMAuthenticator('R1QPp0vJR6KH8OMZdQKkE-7lKdFH5IWFJkcntsXi97yj')\n",
    "text_to_speech = TextToSpeechV1(authenticator = authenticator)\n",
    "text_to_speech.set_service_url('https://api.us-east.text-to-speech.watson.cloud.ibm.com/instances/0f8e81df-db78-4770-bb22-4a44f1566a12')"
   ]
  },
  {
   "cell_type": "code",
   "execution_count": 15,
   "metadata": {},
   "outputs": [],
   "source": [
    "with open(\"welcome.mp3\", \"wb\") as audiofile:\n",
    "    audiofile.write(text_to_speech.synthesize(\"Hello techies\", accept= \"audio/mp3\").get_result().content)"
   ]
  },
  {
   "cell_type": "code",
   "execution_count": 4,
   "metadata": {},
   "outputs": [
    {
     "data": {
      "text/html": [
       "\n",
       "                <audio  controls=\"controls\" >\n",
       "                    <source src=\"data:audio/mpeg;base64,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\" type=\"audio/mpeg\" />\n",
       "                    Your browser does not support the audio element.\n",
       "                </audio>\n",
       "              "
      ],
      "text/plain": [
       "<IPython.lib.display.Audio object>"
      ]
     },
     "execution_count": 4,
     "metadata": {},
     "output_type": "execute_result"
    }
   ],
   "source": [
    "import IPython.display as ipd\n",
    "ipd.Audio('welcome.mp3')"
   ]
  },
  {
   "cell_type": "code",
   "execution_count": null,
   "metadata": {},
   "outputs": [],
   "source": []
  }
 ],
 "metadata": {
  "kernelspec": {
   "display_name": "Python 3",
   "language": "python",
   "name": "python3"
  },
  "language_info": {
   "codemirror_mode": {
    "name": "ipython",
    "version": 3
   },
   "file_extension": ".py",
   "mimetype": "text/x-python",
   "name": "python",
   "nbconvert_exporter": "python",
   "pygments_lexer": "ipython3",
   "version": "3.7.6"
  }
 },
 "nbformat": 4,
 "nbformat_minor": 4
}
